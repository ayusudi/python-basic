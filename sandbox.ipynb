{
 "cells": [
  {
   "cell_type": "markdown",
   "metadata": {},
   "source": [
    "### Variable "
   ]
  },
  {
   "cell_type": "code",
   "execution_count": null,
   "metadata": {},
   "outputs": [],
   "source": [
    "# Tampungan untuk sebuah value   \n",
    "umur = 18\n",
    "\n",
    "# nama panggilan = 'Ayu' \n",
    "nama_panggilan = 'Ayu'\n",
    "namaPanggilan = 'Ayu'\n",
    "namaP4nggilan = 'Ayu'\n",
    "# NamaPanggilan = 'Ayu' #--> sebaiknya untuk penamaan Class"
   ]
  },
  {
   "cell_type": "markdown",
   "metadata": {},
   "source": [
    "### Number (Integer & Float)"
   ]
  },
  {
   "cell_type": "code",
   "execution_count": 8,
   "metadata": {},
   "outputs": [
    {
     "name": "stdout",
     "output_type": "stream",
     "text": [
      "2023\n",
      "<class 'str'>\n",
      "<class 'float'>\n",
      "2023.0\n"
     ]
    }
   ],
   "source": [
    "year = input(\"Tahun berapa ini? \")\n",
    "print(year)\n",
    "print(type(year))\n",
    "yearInteger = float(year) \n",
    "print(type(yearInteger))\n",
    "print(yearInteger)\n",
    "# () invoke "
   ]
  },
  {
   "cell_type": "markdown",
   "metadata": {},
   "source": []
  },
  {
   "cell_type": "markdown",
   "metadata": {},
   "source": [
    "### String"
   ]
  },
  {
   "cell_type": "code",
   "execution_count": null,
   "metadata": {},
   "outputs": [],
   "source": [
    "\n",
    "name = 'ayu sudi dwi'\n",
    "indexTerakhir = len(name) - 1 #7\n",
    "# len() : menghitung panjang character \n",
    "# index : 0 \n",
    "# untuk mengakses character dari string `string[index]`\n",
    "print(name[0])\n",
    "print(name[2])\n",
    "print(name[indexTerakhir])"
   ]
  },
  {
   "cell_type": "code",
   "execution_count": 16,
   "metadata": {},
   "outputs": [
    {
     "name": "stdout",
     "output_type": "stream",
     "text": [
      "True\n",
      "<class 'bool'>\n"
     ]
    }
   ],
   "source": [
    "statusOnline = True \n",
    "print(statusOnline)\n",
    "print(type(statusOnline))"
   ]
  },
  {
   "cell_type": "code",
   "execution_count": null,
   "metadata": {},
   "outputs": [],
   "source": [
    "# Luwy umurnya adalah 4 beratnya 4.5 kg status single.\n",
    "name = 'Luwy'\n",
    "age = 4 \n",
    "weight = 4.5 \n",
    "isSingle = True\n",
    "\n",
    "# Luffy umurnya adalah 8 beratnya 6 kg status single. \n",
    "name2 = 'Luffy'\n",
    "age2 = 8 \n",
    "weight2 = 6.00\n",
    "isSingle2 = True\n",
    "\n",
    "# List []\n",
    "# Dictionary {}\n",
    "# Tuple () constant "
   ]
  },
  {
   "cell_type": "markdown",
   "metadata": {},
   "source": [
    "# Array Data Type / Collection\n",
    "list, dictionary, tuple  \n",
    "penamaan variable yang baik untuk 3 tipe atas adalah plural"
   ]
  },
  {
   "cell_type": "markdown",
   "metadata": {},
   "source": [
    "#### List"
   ]
  },
  {
   "cell_type": "code",
   "execution_count": 45,
   "metadata": {},
   "outputs": [
    {
     "name": "stdout",
     "output_type": "stream",
     "text": [
      "['Apple', 'Banana', 'Coconut', 'Durian']\n",
      "Apple\n",
      "A\n",
      "Banana\n",
      "Durian\n",
      "4\n",
      "['Coconut']\n"
     ]
    }
   ],
   "source": [
    "fruits = ['Apple', 'Banana', 'Coconut', 'Durian']\n",
    "print(fruits)\n",
    "print(fruits[0])\n",
    "print(fruits[0][0])\n",
    "print(fruits[1])\n",
    "print(fruits[3])\n",
    "print(len(fruits))\n",
    "\n",
    "# bridge ke material dictionary \n",
    "informationCat = ['Luwy', 4, 4.5, True]\n",
    "\n",
    "# Initialize list\n",
    "\n",
    "\n",
    "# Display list\n",
    "print(fruits[2:3])\n"
   ]
  },
  {
   "cell_type": "markdown",
   "metadata": {},
   "source": [
    "### Dictionary "
   ]
  },
  {
   "cell_type": "code",
   "execution_count": 43,
   "metadata": {},
   "outputs": [
    {
     "name": "stdout",
     "output_type": "stream",
     "text": [
      "6\n",
      "['fish', 'catnip', '...']\n",
      "lufy\n"
     ]
    }
   ],
   "source": [
    "# informationCat = ['Luwy', 4, 4.5, True]\n",
    "informationCat = {\n",
    "  'name': 'luwy',\n",
    "  'age': 4,\n",
    "  'weight': 4.5,\n",
    "  'isSingle': True,\n",
    "  'socialMedia': {\n",
    "    'IG': 'luwyton',\n",
    "    'twitter': 'luwyton'\n",
    "  },\n",
    "  'favoriteFood': ['fish', 'catnip', '...'],\n",
    "}\n",
    "print(len(informationCat))\n",
    "informationCat['name'] = 'lufy'\n",
    "print(informationCat['favoriteFood'])\n",
    "\n",
    "informationCat['height'] = 50 \n",
    "print(informationCat['name'])\n"
   ]
  },
  {
   "cell_type": "markdown",
   "metadata": {},
   "source": [
    "### Tuples"
   ]
  },
  {
   "cell_type": "code",
   "execution_count": 46,
   "metadata": {},
   "outputs": [
    {
     "name": "stdout",
     "output_type": "stream",
     "text": [
      "Jakarta\n"
     ]
    }
   ],
   "source": [
    "# Untuk menyimpan value-value constant\n",
    "namaKota = ('Jakarta', 'Bandung', 'Surabaya', 'Jogja')\n",
    "print(namaKota[0])\n"
   ]
  },
  {
   "cell_type": "code",
   "execution_count": 51,
   "metadata": {},
   "outputs": [
    {
     "name": "stdout",
     "output_type": "stream",
     "text": [
      "[1991, 1993, 1995, 1997, 1999, 2001]\n",
      "[1991, 1993, 1995, 1997, 1999, 2001]\n",
      "-----\n",
      "[1991, 1993, 1995, 1997, 1999, 2001]\n",
      "[1989, 1993, 1995, 1997, 1999, 2001]\n"
     ]
    }
   ],
   "source": [
    "# Pass references \n",
    "listNumber = [1991, 1993, 1995, 1997, 1999, 2001]\n",
    "numbers = listNumber.copy() \n",
    "print(listNumber)\n",
    "print(numbers)\n",
    "print('-----')\n",
    "\n",
    "numbers[0] = 1989\n",
    "print(listNumber)\n",
    "print(numbers)"
   ]
  },
  {
   "cell_type": "markdown",
   "metadata": {},
   "source": [
    "# Belajar Phyton"
   ]
  },
  {
   "cell_type": "markdown",
   "metadata": {},
   "source": [
    "## Task 1"
   ]
  },
  {
   "cell_type": "code",
   "execution_count": 53,
   "metadata": {},
   "outputs": [
    {
     "data": {
      "text/plain": [
       "12"
      ]
     },
     "execution_count": 53,
     "metadata": {},
     "output_type": "execute_result"
    }
   ],
   "source": [
    "customer_id = ['B818', 'A461', 'A092', 'A082', 'B341', 'A005', 'A092', 'A461','B219', 'B904', 'A901', 'A083', 'B904', 'A092', 'B341', 'B821','B341', 'B821', 'B904', 'B818', 'A901', 'A083', 'B818', 'A082','B219', 'B219', 'A083', 'A901', 'A082', 'B341', 'B341', 'A083','A082', 'B219', 'B439', 'A461', 'A005', 'A901', 'B341', 'A082','A083', 'A461', 'A083', 'A901', 'A461', 'A083', 'A082', 'A083','B341', 'A901', 'A082', 'A461', 'B219', 'A083', 'B818', 'B821','A092', 'B341', 'A461', 'A092', 'A083', 'B821', 'A092']\n",
    "\n",
    "# How many unique customer_id from above list?\n",
    "setCustomerId = set(customer_id)\n",
    "len(setCustomerId)\n"
   ]
  }
 ],
 "metadata": {
  "kernelspec": {
   "display_name": "base",
   "language": "python",
   "name": "python3"
  },
  "language_info": {
   "codemirror_mode": {
    "name": "ipython",
    "version": 3
   },
   "file_extension": ".py",
   "mimetype": "text/x-python",
   "name": "python",
   "nbconvert_exporter": "python",
   "pygments_lexer": "ipython3",
   "version": "3.11.3"
  }
 },
 "nbformat": 4,
 "nbformat_minor": 2
}
